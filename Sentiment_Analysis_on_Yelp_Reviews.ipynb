{
 "cells": [
  {
   "cell_type": "markdown",
   "id": "3c4ba92f-1c44-44c2-8498-a61e990d90dd",
   "metadata": {},
   "source": [
    "# Sentiment Analysis on Yelp Reviews\n",
    "\n",
    "This notebook demonstrates how to perform sentiment analysis on Yelp reviews using a pre-trained BERT model.\n"
   ]
  },
  {
   "cell_type": "code",
   "execution_count": null,
   "id": "b73dc339-8cb6-46c0-967b-6e91adfa168c",
   "metadata": {
    "scrolled": true
   },
   "outputs": [],
   "source": [
    "# Check if required packages are installed\n",
    "import importlib.util\n",
    "import sys\n",
    "\n",
    "required_packages = ['transformers', 'torch', 'selenium', 'bs4', 'pandas']\n",
    "\n",
    "missing_packages = []\n",
    "for package in required_packages:\n",
    "    if importlib.util.find_spec(package) is None:\n",
    "        missing_packages.append(package)\n",
    "\n",
    "if missing_packages:\n",
    "    print(\"The following required packages are missing:\")\n",
    "    for package in missing_packages:\n",
    "        print(f\"- {package}\")\n",
    "    print(\"\\nPlease install the missing packages using the instructions in the README.md file.\")\n",
    "    print(\"You can run the following command in your terminal:\")\n",
    "    print(\"pip install -r requirements.txt\")\n",
    "    sys.exit(1)\n",
    "else:\n",
    "    print(\"All required packages are installed. You're good to go!\")\n"
   ]
  },
  {
   "cell_type": "markdown",
   "id": "2b62096c-0f18-4c08-b818-57c93bec03d0",
   "metadata": {},
   "source": [
    "## Data Loading\n"
   ]
  },
  {
   "cell_type": "code",
   "execution_count": null,
   "id": "1860c01b-55ba-40b0-8446-7b5126f95faf",
   "metadata": {
    "jupyter": {
      "source_hidden": true
    }
   },
   "outputs": [],
   "source": [
    "import pandas as pd\n",
    "\n",
    "# Sample DataFrame\n",
    "data = {\n",
    "    'review': [\n",
    "        \"I had to get Chili Crab while I was in Singapore. So glad I did!\",\n",
    "        \"You must try chili crab in Singapore if you're a fan of spicy seafood!\",\n",
    "        \"My gf found this place on yelp and saw the amazing ratings and decided to give it a try.\",\n",
    "        \"We went there on February the 5th, at about 1pm. The place was packed, but we got a table quickly.\",\n",
    "        \"One of the best places to try chili crab. They have a variety of dishes and the ambiance is great.\"\n",
    "    ]\n",
    "}\n",
    "df = pd.DataFrame(data)\n",
    "df.head()\n"
   ]
  },
  {
   "cell_type": "markdown",
   "id": "3464bf03-b441-4afa-b7b9-b7bbb16cb2f2",
   "metadata": {},
   "source": [
    "## Data Preprocessing\n"
   ]
  },
  {
   "cell_type": "code",
   "execution_count": null,
   "id": "dec94e27-0633-4f4b-8a87-277357842bd7",
   "metadata": {},
   "outputs": [],
   "source": [
    "import warnings\n",
    "warnings.filterwarnings(\"ignore\", category=FutureWarning)\n",
    "\n",
    "from transformers import AutoTokenizer, AutoModelForSequenceClassification\n",
    "import torch\n",
    "\n",
    "# Load tokenizer and model\n",
    "tokenizer = AutoTokenizer.from_pretrained('nlptown/bert-base-multilingual-uncased-sentiment')\n",
    "model = AutoModelForSequenceClassification.from_pretrained('nlptown/bert-base-multilingual-uncased-sentiment')\n",
    "\n",
    "def sentiment_score(review):\n",
    "    tokens = tokenizer.encode(review, return_tensors='pt', truncation=True)\n",
    "    result = model(tokens)\n",
    "    return int(torch.argmax(result.logits)) + 1\n"
   ]
  },
  {
   "cell_type": "markdown",
   "id": "da02f012-5d53-491a-8e20-4af352ff5edb",
   "metadata": {},
   "source": [
    "## Web Scraping\n"
   ]
  },
  {
   "cell_type": "code",
   "execution_count": null,
   "id": "8f03b546-d8de-448e-b835-7b31e14a985d",
   "metadata": {
    "jupyter": {
      "outputs_hidden": true
    }
   },
   "outputs": [],
   "source": [
    "from selenium import webdriver\n",
    "from bs4 import BeautifulSoup\n",
    "import time\n",
    "import re\n",
    "\n",
    "# Setup Selenium WebDriver\n",
    "driver = webdriver.Chrome()  # Make sure to have the appropriate driver installed\n",
    "\n",
    "# Open the webpage\n",
    "url = 'https://www.yelp.com/biz/holycrab-singapore?osq=Restaurants'\n",
    "driver.get(url)\n",
    "\n",
    "# Wait for the JavaScript to load (adjust as needed)\n",
    "time.sleep(5)\n",
    "\n",
    "# Get the page source and parse it with BeautifulSoup\n",
    "soup = BeautifulSoup(driver.page_source, 'html.parser')\n",
    "\n",
    "# Close the browser\n",
    "driver.quit()\n",
    "\n",
    "# Find all <p> tags with class containing 'comment__'\n",
    "reviews = soup.find_all('p', class_=re.compile('^comment__'))\n",
    "\n",
    "# Extract text from each review\n",
    "reviews_text = [review.text for review in reviews]\n",
    "\n",
    "# Convert to DataFrame\n",
    "scraped_df = pd.DataFrame({'review': reviews_text})\n",
    "scraped_df.head()\n"
   ]
  },
  {
   "cell_type": "markdown",
   "id": "f79c10e4-1a9b-4b05-b1fc-4d585d62c46e",
   "metadata": {},
   "source": [
    "## Sentiment Analysis\n"
   ]
  },
  {
   "cell_type": "code",
   "execution_count": null,
   "id": "a46cff83-7a5e-440f-8a81-b497a8a89b8f",
   "metadata": {},
   "outputs": [],
   "source": [
    "# Apply the sentiment_score function to each review\n",
    "scraped_df['sentiment'] = scraped_df['review'].apply(sentiment_score)\n",
    "scraped_df\n"
   ]
  },
  {
   "cell_type": "markdown",
   "id": "2294e068-8119-42e7-a9d7-bbf5e68154c7",
   "metadata": {},
   "source": [
    "## Results\n",
    "\n",
    "### Sentiment Analysis Results\n",
    "\n",
    "The sentiment analysis results for each review are displayed in the DataFrame above. The sentiment scores range from 1 (very negative) to 5 (very positive).\n"
   ]
  },
  {
   "cell_type": "markdown",
   "id": "e7726b6f-81f8-4475-96dd-964f22cdf135",
   "metadata": {},
   "source": [
    "## Conclusion\n",
    "\n",
    "In this notebook, we demonstrated how to perform sentiment analysis on Yelp reviews using a pre-trained BERT model. The process involved loading the data, preprocessing the text, scraping reviews from Yelp, and applying the sentiment analysis model to obtain sentiment scores.\n"
   ]
  }
 ],
 "metadata": {
  "kernelspec": {
   "display_name": "Python 3 (ipykernel)",
   "language": "python",
   "name": "python3"
  },
  "language_info": {
   "codemirror_mode": {
    "name": "ipython",
    "version": 3
   },
   "file_extension": ".py",
   "mimetype": "text/x-python",
   "name": "python",
   "nbconvert_exporter": "python",
   "pygments_lexer": "ipython3",
   "version": "3.12.5"
  }
 },
 "nbformat": 4,
 "nbformat_minor": 5
}